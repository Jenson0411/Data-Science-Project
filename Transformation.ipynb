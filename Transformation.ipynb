{
 "cells": [
  {
   "cell_type": "code",
   "execution_count": 118,
   "metadata": {},
   "outputs": [],
   "source": [
    "import pandas as pd\n",
    "import os"
   ]
  },
  {
   "cell_type": "markdown",
   "metadata": {},
   "source": [
    "Importing and combining flight data sources and aircraft data source"
   ]
  },
  {
   "cell_type": "code",
   "execution_count": 119,
   "metadata": {},
   "outputs": [],
   "source": [
    "#appending the monthly flight data sources into a single dataframe(takes approx 1 min to run) \n",
    "csv_files = [file for file in os.listdir(\"Monthly Data Sources/Flight\") ]\n",
    "data_frames = []\n",
    "for file in csv_files:\n",
    "     data_frames.append(pd.read_csv(os.path.join(\"Monthly Data Sources/Flight\", file)))\n",
    "flights_db = pd.concat(data_frames, ignore_index=True)\n"
   ]
  },
  {
   "cell_type": "code",
   "execution_count": 120,
   "metadata": {},
   "outputs": [
    {
     "name": "stderr",
     "output_type": "stream",
     "text": [
      "C:\\Users\\jenso\\AppData\\Local\\Temp\\ipykernel_19200\\289985414.py:1: DtypeWarning: Columns (18) have mixed types. Specify dtype option on import or set low_memory=False.\n",
      "  aircrafts = pd.read_csv(\"Monthly Data Sources/Aircraft/Aircraft.csv\")\n"
     ]
    }
   ],
   "source": [
    "aircrafts = pd.read_csv(\"Monthly Data Sources/Aircraft/Aircraft.csv\")"
   ]
  },
  {
   "cell_type": "code",
   "execution_count": 121,
   "metadata": {},
   "outputs": [],
   "source": [
    "#creating lookup table source for the flight dataset\n",
    "airline_look_up = pd.read_csv(\"Look Up Tables/L_AIRLINE_ID.csv\")\n",
    "airport_look_up = pd.read_csv(\"Look Up Tables/L_AIRPORT_ID.csv\")\n",
    "cancellation_look_up = pd.read_csv(\"Look Up Tables/L_CANCELLATION.csv\")\n",
    "country_look_up = pd.read_csv(\"Look Up Tables/L_WORLD_AREA_CODES.csv\")"
   ]
  },
  {
   "cell_type": "markdown",
   "metadata": {},
   "source": [
    "Merging the dataset together"
   ]
  },
  {
   "cell_type": "code",
   "execution_count": 122,
   "metadata": {},
   "outputs": [
    {
     "data": {
      "text/plain": [
       "YEAR                       int64\n",
       "MONTH                      int64\n",
       "DAY_OF_MONTH               int64\n",
       "FL_DATE                   object\n",
       "OP_CARRIER_AIRLINE_ID      int64\n",
       "TAIL_NUM                  object\n",
       "OP_CARRIER_FL_NUM          int64\n",
       "ORIGIN_AIRPORT_ID          int64\n",
       "ORIGIN_AIRPORT_SEQ_ID      int64\n",
       "ORIGIN_CITY_MARKET_ID      int64\n",
       "ORIGIN                    object\n",
       "ORIGIN_CITY_NAME          object\n",
       "ORIGIN_WAC                 int64\n",
       "DEST_AIRPORT_ID            int64\n",
       "DEST_AIRPORT_SEQ_ID        int64\n",
       "DEST_CITY_MARKET_ID        int64\n",
       "DEST                      object\n",
       "DEST_CITY_NAME            object\n",
       "DEST_WAC                   int64\n",
       "CRS_DEP_TIME               int64\n",
       "DEP_TIME                 float64\n",
       "DEP_DELAY                float64\n",
       "CRS_ARR_TIME               int64\n",
       "ARR_TIME                 float64\n",
       "ARR_DELAY                float64\n",
       "CANCELLED                float64\n",
       "CANCELLATION_CODE         object\n",
       "DIVERTED                 float64\n",
       "CRS_ELAPSED_TIME         float64\n",
       "ACTUAL_ELAPSED_TIME      float64\n",
       "AIR_TIME                 float64\n",
       "FLIGHTS                  float64\n",
       "DISTANCE                 float64\n",
       "CARRIER_DELAY            float64\n",
       "WEATHER_DELAY            float64\n",
       "NAS_DELAY                float64\n",
       "SECURITY_DELAY           float64\n",
       "LATE_AIRCRAFT_DELAY      float64\n",
       "dtype: object"
      ]
     },
     "execution_count": 122,
     "metadata": {},
     "output_type": "execute_result"
    }
   ],
   "source": [
    "flights_db.dtypes"
   ]
  },
  {
   "cell_type": "markdown",
   "metadata": {},
   "source": [
    "Creating the Fact Table and transforming the fact table"
   ]
  },
  {
   "cell_type": "code",
   "execution_count": 123,
   "metadata": {},
   "outputs": [],
   "source": [
    "fact_table = flights_db[[\"CANCELLATION_CODE\", \n",
    "                      \"OP_CARRIER_FL_NUM\", \n",
    "                      \"FL_DATE\", \n",
    "                      \"OP_CARRIER_AIRLINE_ID\", \n",
    "                      \"TAIL_NUM\", \n",
    "                      \"ORIGIN_AIRPORT_ID\", \n",
    "                      \"DEST_AIRPORT_ID\", \n",
    "                      \"CARRIER_DELAY\", \n",
    "                      \"WEATHER_DELAY\", \n",
    "                      \"NAS_DELAY\", \n",
    "                      \"SECURITY_DELAY\", \n",
    "                      \"LATE_AIRCRAFT_DELAY\"]]"
   ]
  },
  {
   "cell_type": "code",
   "execution_count": 124,
   "metadata": {},
   "outputs": [
    {
     "data": {
      "text/plain": [
       "CANCELLATION_CODE        12739711\n",
       "OP_CARRIER_FL_NUM               0\n",
       "FL_DATE                         0\n",
       "OP_CARRIER_AIRLINE_ID           0\n",
       "TAIL_NUM                    49775\n",
       "ORIGIN_AIRPORT_ID               0\n",
       "DEST_AIRPORT_ID                 0\n",
       "CARRIER_DELAY            10332287\n",
       "WEATHER_DELAY            10332287\n",
       "NAS_DELAY                10332287\n",
       "SECURITY_DELAY           10332287\n",
       "LATE_AIRCRAFT_DELAY      10332287\n",
       "dtype: int64"
      ]
     },
     "execution_count": 124,
     "metadata": {},
     "output_type": "execute_result"
    }
   ],
   "source": [
    "fact_table.isnull().sum()"
   ]
  },
  {
   "cell_type": "code",
   "execution_count": 125,
   "metadata": {},
   "outputs": [
    {
     "name": "stderr",
     "output_type": "stream",
     "text": [
      "C:\\Users\\jenso\\AppData\\Local\\Temp\\ipykernel_19200\\3257795551.py:2: SettingWithCopyWarning: \n",
      "A value is trying to be set on a copy of a slice from a DataFrame.\n",
      "Try using .loc[row_indexer,col_indexer] = value instead\n",
      "\n",
      "See the caveats in the documentation: https://pandas.pydata.org/pandas-docs/stable/user_guide/indexing.html#returning-a-view-versus-a-copy\n",
      "  fact_table[\"CARRIER_DELAY\"] = fact_table[\"CARRIER_DELAY\"].fillna(0)\n",
      "C:\\Users\\jenso\\AppData\\Local\\Temp\\ipykernel_19200\\3257795551.py:3: SettingWithCopyWarning: \n",
      "A value is trying to be set on a copy of a slice from a DataFrame.\n",
      "Try using .loc[row_indexer,col_indexer] = value instead\n",
      "\n",
      "See the caveats in the documentation: https://pandas.pydata.org/pandas-docs/stable/user_guide/indexing.html#returning-a-view-versus-a-copy\n",
      "  fact_table[\"WEATHER_DELAY\"] = fact_table[\"WEATHER_DELAY\"].fillna(0)\n",
      "C:\\Users\\jenso\\AppData\\Local\\Temp\\ipykernel_19200\\3257795551.py:4: SettingWithCopyWarning: \n",
      "A value is trying to be set on a copy of a slice from a DataFrame.\n",
      "Try using .loc[row_indexer,col_indexer] = value instead\n",
      "\n",
      "See the caveats in the documentation: https://pandas.pydata.org/pandas-docs/stable/user_guide/indexing.html#returning-a-view-versus-a-copy\n",
      "  fact_table[\"SECURITY_DELAY\"] = fact_table[\"SECURITY_DELAY\"].fillna(0)\n",
      "C:\\Users\\jenso\\AppData\\Local\\Temp\\ipykernel_19200\\3257795551.py:5: SettingWithCopyWarning: \n",
      "A value is trying to be set on a copy of a slice from a DataFrame.\n",
      "Try using .loc[row_indexer,col_indexer] = value instead\n",
      "\n",
      "See the caveats in the documentation: https://pandas.pydata.org/pandas-docs/stable/user_guide/indexing.html#returning-a-view-versus-a-copy\n",
      "  fact_table[\"NAS_DELAY\"] = fact_table[\"NAS_DELAY\"].fillna(0)\n",
      "C:\\Users\\jenso\\AppData\\Local\\Temp\\ipykernel_19200\\3257795551.py:6: SettingWithCopyWarning: \n",
      "A value is trying to be set on a copy of a slice from a DataFrame.\n",
      "Try using .loc[row_indexer,col_indexer] = value instead\n",
      "\n",
      "See the caveats in the documentation: https://pandas.pydata.org/pandas-docs/stable/user_guide/indexing.html#returning-a-view-versus-a-copy\n",
      "  fact_table[\"LATE_AIRCRAFT_DELAY\"] = fact_table[\"LATE_AIRCRAFT_DELAY\"].fillna(0)\n",
      "C:\\Users\\jenso\\AppData\\Local\\Temp\\ipykernel_19200\\3257795551.py:8: SettingWithCopyWarning: \n",
      "A value is trying to be set on a copy of a slice from a DataFrame.\n",
      "Try using .loc[row_indexer,col_indexer] = value instead\n",
      "\n",
      "See the caveats in the documentation: https://pandas.pydata.org/pandas-docs/stable/user_guide/indexing.html#returning-a-view-versus-a-copy\n",
      "  fact_table[\"TAIL_NUM\"] = fact_table[\"TAIL_NUM\"].replace(\"nan\", \"unknown\")\n",
      "C:\\Users\\jenso\\AppData\\Local\\Temp\\ipykernel_19200\\3257795551.py:9: SettingWithCopyWarning: \n",
      "A value is trying to be set on a copy of a slice from a DataFrame.\n",
      "Try using .loc[row_indexer,col_indexer] = value instead\n",
      "\n",
      "See the caveats in the documentation: https://pandas.pydata.org/pandas-docs/stable/user_guide/indexing.html#returning-a-view-versus-a-copy\n",
      "  fact_table[\"CANCELLATION_CODE\"] = fact_table[\"CANCELLATION_CODE\"].replace(\"nan\", \"E\")\n"
     ]
    }
   ],
   "source": [
    "#Handling null value\n",
    "fact_table[\"CARRIER_DELAY\"] = fact_table[\"CARRIER_DELAY\"].fillna(0)\n",
    "fact_table[\"WEATHER_DELAY\"] = fact_table[\"WEATHER_DELAY\"].fillna(0)\n",
    "fact_table[\"SECURITY_DELAY\"] = fact_table[\"SECURITY_DELAY\"].fillna(0)\n",
    "fact_table[\"NAS_DELAY\"] = fact_table[\"NAS_DELAY\"].fillna(0)\n",
    "fact_table[\"LATE_AIRCRAFT_DELAY\"] = fact_table[\"LATE_AIRCRAFT_DELAY\"].fillna(0)\n",
    "\n",
    "fact_table[\"TAIL_NUM\"] = fact_table[\"TAIL_NUM\"].replace(\"nan\", \"unknown\")\n",
    "fact_table[\"CANCELLATION_CODE\"] = fact_table[\"CANCELLATION_CODE\"].replace(\"nan\", \"E\")\n"
   ]
  },
  {
   "cell_type": "code",
   "execution_count": 126,
   "metadata": {},
   "outputs": [
    {
     "data": {
      "text/plain": [
       "CANCELLATION_CODE        12739711\n",
       "OP_CARRIER_FL_NUM               0\n",
       "FL_DATE                         0\n",
       "OP_CARRIER_AIRLINE_ID           0\n",
       "TAIL_NUM                    49775\n",
       "ORIGIN_AIRPORT_ID               0\n",
       "DEST_AIRPORT_ID                 0\n",
       "CARRIER_DELAY                   0\n",
       "WEATHER_DELAY                   0\n",
       "NAS_DELAY                       0\n",
       "SECURITY_DELAY                  0\n",
       "LATE_AIRCRAFT_DELAY             0\n",
       "dtype: int64"
      ]
     },
     "execution_count": 126,
     "metadata": {},
     "output_type": "execute_result"
    }
   ],
   "source": [
    "fact_table.isnull().sum()"
   ]
  },
  {
   "cell_type": "code",
   "execution_count": 127,
   "metadata": {},
   "outputs": [
    {
     "name": "stderr",
     "output_type": "stream",
     "text": [
      "C:\\Users\\jenso\\AppData\\Local\\Temp\\ipykernel_19200\\2967892618.py:1: SettingWithCopyWarning: \n",
      "A value is trying to be set on a copy of a slice from a DataFrame.\n",
      "Try using .loc[row_indexer,col_indexer] = value instead\n",
      "\n",
      "See the caveats in the documentation: https://pandas.pydata.org/pandas-docs/stable/user_guide/indexing.html#returning-a-view-versus-a-copy\n",
      "  fact_table[\"TAIL_NUM\"] = fact_table[\"TAIL_NUM\"].str.replace(\"N\",'')\n"
     ]
    }
   ],
   "source": [
    "fact_table[\"TAIL_NUM\"] = fact_table[\"TAIL_NUM\"].str.replace(\"N\",'')"
   ]
  },
  {
   "cell_type": "code",
   "execution_count": 128,
   "metadata": {},
   "outputs": [
    {
     "data": {
      "text/html": [
       "<div>\n",
       "<style scoped>\n",
       "    .dataframe tbody tr th:only-of-type {\n",
       "        vertical-align: middle;\n",
       "    }\n",
       "\n",
       "    .dataframe tbody tr th {\n",
       "        vertical-align: top;\n",
       "    }\n",
       "\n",
       "    .dataframe thead th {\n",
       "        text-align: right;\n",
       "    }\n",
       "</style>\n",
       "<table border=\"1\" class=\"dataframe\">\n",
       "  <thead>\n",
       "    <tr style=\"text-align: right;\">\n",
       "      <th></th>\n",
       "      <th>CANCELLATION_CODE</th>\n",
       "      <th>OP_CARRIER_FL_NUM</th>\n",
       "      <th>FL_DATE</th>\n",
       "      <th>OP_CARRIER_AIRLINE_ID</th>\n",
       "      <th>TAIL_NUM</th>\n",
       "      <th>ORIGIN_AIRPORT_ID</th>\n",
       "      <th>DEST_AIRPORT_ID</th>\n",
       "      <th>CARRIER_DELAY</th>\n",
       "      <th>WEATHER_DELAY</th>\n",
       "      <th>NAS_DELAY</th>\n",
       "      <th>SECURITY_DELAY</th>\n",
       "      <th>LATE_AIRCRAFT_DELAY</th>\n",
       "    </tr>\n",
       "  </thead>\n",
       "  <tbody>\n",
       "    <tr>\n",
       "      <th>0</th>\n",
       "      <td>B</td>\n",
       "      <td>1275</td>\n",
       "      <td>1/1/2022 12:00:00 AM</td>\n",
       "      <td>19393</td>\n",
       "      <td>NaN</td>\n",
       "      <td>13796</td>\n",
       "      <td>11292</td>\n",
       "      <td>0.0</td>\n",
       "      <td>0.0</td>\n",
       "      <td>0.0</td>\n",
       "      <td>0.0</td>\n",
       "      <td>0.0</td>\n",
       "    </tr>\n",
       "    <tr>\n",
       "      <th>1</th>\n",
       "      <td>B</td>\n",
       "      <td>1336</td>\n",
       "      <td>1/1/2022 12:00:00 AM</td>\n",
       "      <td>19393</td>\n",
       "      <td>NaN</td>\n",
       "      <td>10693</td>\n",
       "      <td>13204</td>\n",
       "      <td>0.0</td>\n",
       "      <td>0.0</td>\n",
       "      <td>0.0</td>\n",
       "      <td>0.0</td>\n",
       "      <td>0.0</td>\n",
       "    </tr>\n",
       "    <tr>\n",
       "      <th>2</th>\n",
       "      <td>B</td>\n",
       "      <td>1414</td>\n",
       "      <td>1/1/2022 12:00:00 AM</td>\n",
       "      <td>19393</td>\n",
       "      <td>NaN</td>\n",
       "      <td>11292</td>\n",
       "      <td>13232</td>\n",
       "      <td>0.0</td>\n",
       "      <td>0.0</td>\n",
       "      <td>0.0</td>\n",
       "      <td>0.0</td>\n",
       "      <td>0.0</td>\n",
       "    </tr>\n",
       "    <tr>\n",
       "      <th>3</th>\n",
       "      <td>B</td>\n",
       "      <td>1428</td>\n",
       "      <td>1/1/2022 12:00:00 AM</td>\n",
       "      <td>19393</td>\n",
       "      <td>NaN</td>\n",
       "      <td>12953</td>\n",
       "      <td>13232</td>\n",
       "      <td>0.0</td>\n",
       "      <td>0.0</td>\n",
       "      <td>0.0</td>\n",
       "      <td>0.0</td>\n",
       "      <td>0.0</td>\n",
       "    </tr>\n",
       "    <tr>\n",
       "      <th>4</th>\n",
       "      <td>B</td>\n",
       "      <td>1513</td>\n",
       "      <td>1/1/2022 12:00:00 AM</td>\n",
       "      <td>19393</td>\n",
       "      <td>NaN</td>\n",
       "      <td>13198</td>\n",
       "      <td>15304</td>\n",
       "      <td>0.0</td>\n",
       "      <td>0.0</td>\n",
       "      <td>0.0</td>\n",
       "      <td>0.0</td>\n",
       "      <td>0.0</td>\n",
       "    </tr>\n",
       "    <tr>\n",
       "      <th>...</th>\n",
       "      <td>...</td>\n",
       "      <td>...</td>\n",
       "      <td>...</td>\n",
       "      <td>...</td>\n",
       "      <td>...</td>\n",
       "      <td>...</td>\n",
       "      <td>...</td>\n",
       "      <td>...</td>\n",
       "      <td>...</td>\n",
       "      <td>...</td>\n",
       "      <td>...</td>\n",
       "      <td>...</td>\n",
       "    </tr>\n",
       "    <tr>\n",
       "      <th>13006625</th>\n",
       "      <td>NaN</td>\n",
       "      <td>5853</td>\n",
       "      <td>9/30/2022 12:00:00 AM</td>\n",
       "      <td>20452</td>\n",
       "      <td>880RW</td>\n",
       "      <td>11278</td>\n",
       "      <td>13871</td>\n",
       "      <td>0.0</td>\n",
       "      <td>0.0</td>\n",
       "      <td>0.0</td>\n",
       "      <td>0.0</td>\n",
       "      <td>0.0</td>\n",
       "    </tr>\n",
       "    <tr>\n",
       "      <th>13006626</th>\n",
       "      <td>NaN</td>\n",
       "      <td>5853</td>\n",
       "      <td>9/30/2022 12:00:00 AM</td>\n",
       "      <td>20452</td>\n",
       "      <td>880RW</td>\n",
       "      <td>13871</td>\n",
       "      <td>11278</td>\n",
       "      <td>0.0</td>\n",
       "      <td>0.0</td>\n",
       "      <td>0.0</td>\n",
       "      <td>0.0</td>\n",
       "      <td>0.0</td>\n",
       "    </tr>\n",
       "    <tr>\n",
       "      <th>13006627</th>\n",
       "      <td>NaN</td>\n",
       "      <td>3418</td>\n",
       "      <td>9/30/2022 12:00:00 AM</td>\n",
       "      <td>20452</td>\n",
       "      <td>979RP</td>\n",
       "      <td>11193</td>\n",
       "      <td>12264</td>\n",
       "      <td>0.0</td>\n",
       "      <td>0.0</td>\n",
       "      <td>0.0</td>\n",
       "      <td>0.0</td>\n",
       "      <td>0.0</td>\n",
       "    </tr>\n",
       "    <tr>\n",
       "      <th>13006628</th>\n",
       "      <td>NaN</td>\n",
       "      <td>3486</td>\n",
       "      <td>9/30/2022 12:00:00 AM</td>\n",
       "      <td>20452</td>\n",
       "      <td>979RP</td>\n",
       "      <td>12339</td>\n",
       "      <td>13930</td>\n",
       "      <td>0.0</td>\n",
       "      <td>0.0</td>\n",
       "      <td>0.0</td>\n",
       "      <td>0.0</td>\n",
       "      <td>0.0</td>\n",
       "    </tr>\n",
       "    <tr>\n",
       "      <th>13006629</th>\n",
       "      <td>NaN</td>\n",
       "      <td>3580</td>\n",
       "      <td>9/30/2022 12:00:00 AM</td>\n",
       "      <td>20452</td>\n",
       "      <td>979RP</td>\n",
       "      <td>13930</td>\n",
       "      <td>11193</td>\n",
       "      <td>0.0</td>\n",
       "      <td>0.0</td>\n",
       "      <td>0.0</td>\n",
       "      <td>0.0</td>\n",
       "      <td>0.0</td>\n",
       "    </tr>\n",
       "  </tbody>\n",
       "</table>\n",
       "<p>13006630 rows × 12 columns</p>\n",
       "</div>"
      ],
      "text/plain": [
       "         CANCELLATION_CODE  OP_CARRIER_FL_NUM                FL_DATE  \\\n",
       "0                        B               1275   1/1/2022 12:00:00 AM   \n",
       "1                        B               1336   1/1/2022 12:00:00 AM   \n",
       "2                        B               1414   1/1/2022 12:00:00 AM   \n",
       "3                        B               1428   1/1/2022 12:00:00 AM   \n",
       "4                        B               1513   1/1/2022 12:00:00 AM   \n",
       "...                    ...                ...                    ...   \n",
       "13006625               NaN               5853  9/30/2022 12:00:00 AM   \n",
       "13006626               NaN               5853  9/30/2022 12:00:00 AM   \n",
       "13006627               NaN               3418  9/30/2022 12:00:00 AM   \n",
       "13006628               NaN               3486  9/30/2022 12:00:00 AM   \n",
       "13006629               NaN               3580  9/30/2022 12:00:00 AM   \n",
       "\n",
       "          OP_CARRIER_AIRLINE_ID TAIL_NUM  ORIGIN_AIRPORT_ID  DEST_AIRPORT_ID  \\\n",
       "0                         19393      NaN              13796            11292   \n",
       "1                         19393      NaN              10693            13204   \n",
       "2                         19393      NaN              11292            13232   \n",
       "3                         19393      NaN              12953            13232   \n",
       "4                         19393      NaN              13198            15304   \n",
       "...                         ...      ...                ...              ...   \n",
       "13006625                  20452    880RW              11278            13871   \n",
       "13006626                  20452    880RW              13871            11278   \n",
       "13006627                  20452    979RP              11193            12264   \n",
       "13006628                  20452    979RP              12339            13930   \n",
       "13006629                  20452    979RP              13930            11193   \n",
       "\n",
       "          CARRIER_DELAY  WEATHER_DELAY  NAS_DELAY  SECURITY_DELAY  \\\n",
       "0                   0.0            0.0        0.0             0.0   \n",
       "1                   0.0            0.0        0.0             0.0   \n",
       "2                   0.0            0.0        0.0             0.0   \n",
       "3                   0.0            0.0        0.0             0.0   \n",
       "4                   0.0            0.0        0.0             0.0   \n",
       "...                 ...            ...        ...             ...   \n",
       "13006625            0.0            0.0        0.0             0.0   \n",
       "13006626            0.0            0.0        0.0             0.0   \n",
       "13006627            0.0            0.0        0.0             0.0   \n",
       "13006628            0.0            0.0        0.0             0.0   \n",
       "13006629            0.0            0.0        0.0             0.0   \n",
       "\n",
       "          LATE_AIRCRAFT_DELAY  \n",
       "0                         0.0  \n",
       "1                         0.0  \n",
       "2                         0.0  \n",
       "3                         0.0  \n",
       "4                         0.0  \n",
       "...                       ...  \n",
       "13006625                  0.0  \n",
       "13006626                  0.0  \n",
       "13006627                  0.0  \n",
       "13006628                  0.0  \n",
       "13006629                  0.0  \n",
       "\n",
       "[13006630 rows x 12 columns]"
      ]
     },
     "execution_count": 128,
     "metadata": {},
     "output_type": "execute_result"
    }
   ],
   "source": [
    "fact_table"
   ]
  },
  {
   "cell_type": "markdown",
   "metadata": {},
   "source": [
    "Creating Cancellation Dimension"
   ]
  },
  {
   "cell_type": "code",
   "execution_count": 129,
   "metadata": {},
   "outputs": [],
   "source": [
    "cancellation = flights_db[\"CANCELLATION_CODE\"].drop_duplicates()\n"
   ]
  },
  {
   "cell_type": "code",
   "execution_count": 130,
   "metadata": {},
   "outputs": [],
   "source": [
    "cancellation = cancellation.fillna(\"E\")"
   ]
  },
  {
   "cell_type": "code",
   "execution_count": 131,
   "metadata": {},
   "outputs": [],
   "source": [
    "\n",
    "cancellation = pd.merge(cancellation, cancellation_look_up, left_on=\"CANCELLATION_CODE\", right_on=\"Code\")"
   ]
  },
  {
   "cell_type": "code",
   "execution_count": 132,
   "metadata": {},
   "outputs": [],
   "source": [
    "cancellation = cancellation[[\"CANCELLATION_CODE\", \"Description\"]]"
   ]
  },
  {
   "cell_type": "code",
   "execution_count": 133,
   "metadata": {},
   "outputs": [
    {
     "data": {
      "text/html": [
       "<div>\n",
       "<style scoped>\n",
       "    .dataframe tbody tr th:only-of-type {\n",
       "        vertical-align: middle;\n",
       "    }\n",
       "\n",
       "    .dataframe tbody tr th {\n",
       "        vertical-align: top;\n",
       "    }\n",
       "\n",
       "    .dataframe thead th {\n",
       "        text-align: right;\n",
       "    }\n",
       "</style>\n",
       "<table border=\"1\" class=\"dataframe\">\n",
       "  <thead>\n",
       "    <tr style=\"text-align: right;\">\n",
       "      <th></th>\n",
       "      <th>CANCELLATION_CODE</th>\n",
       "      <th>Description</th>\n",
       "    </tr>\n",
       "  </thead>\n",
       "  <tbody>\n",
       "    <tr>\n",
       "      <th>0</th>\n",
       "      <td>B</td>\n",
       "      <td>Weather</td>\n",
       "    </tr>\n",
       "    <tr>\n",
       "      <th>1</th>\n",
       "      <td>A</td>\n",
       "      <td>Carrier</td>\n",
       "    </tr>\n",
       "    <tr>\n",
       "      <th>2</th>\n",
       "      <td>E</td>\n",
       "      <td>No Cancellation</td>\n",
       "    </tr>\n",
       "    <tr>\n",
       "      <th>3</th>\n",
       "      <td>C</td>\n",
       "      <td>National Air System</td>\n",
       "    </tr>\n",
       "    <tr>\n",
       "      <th>4</th>\n",
       "      <td>D</td>\n",
       "      <td>Security</td>\n",
       "    </tr>\n",
       "  </tbody>\n",
       "</table>\n",
       "</div>"
      ],
      "text/plain": [
       "  CANCELLATION_CODE          Description\n",
       "0                 B              Weather\n",
       "1                 A              Carrier\n",
       "2                 E      No Cancellation\n",
       "3                 C  National Air System\n",
       "4                 D             Security"
      ]
     },
     "execution_count": 133,
     "metadata": {},
     "output_type": "execute_result"
    }
   ],
   "source": [
    "cancellation"
   ]
  },
  {
   "cell_type": "markdown",
   "metadata": {},
   "source": [
    "Creating Aircraft Dimensions"
   ]
  },
  {
   "cell_type": "code",
   "execution_count": 134,
   "metadata": {},
   "outputs": [],
   "source": [
    "aircrafts = aircrafts[[\"N-NUMBER\",\"SERIAL NUMBER\", \"YEAR MFR\", \"NAME\", \"EXPIRATION DATE\"]]"
   ]
  },
  {
   "cell_type": "code",
   "execution_count": 141,
   "metadata": {},
   "outputs": [
    {
     "data": {
      "text/plain": [
       "N-NUMBER           0\n",
       "SERIAL NUMBER      0\n",
       "YEAR MFR           0\n",
       "NAME               0\n",
       "EXPIRATION DATE    0\n",
       "dtype: int64"
      ]
     },
     "execution_count": 141,
     "metadata": {},
     "output_type": "execute_result"
    }
   ],
   "source": [
    "aircrafts.isnull().sum()"
   ]
  },
  {
   "cell_type": "markdown",
   "metadata": {},
   "source": [
    "Creating Flight Date Dimension"
   ]
  },
  {
   "cell_type": "code",
   "execution_count": 142,
   "metadata": {},
   "outputs": [
    {
     "data": {
      "text/plain": [
       "N-NUMBER           object\n",
       "SERIAL NUMBER      object\n",
       "YEAR MFR           object\n",
       "NAME               object\n",
       "EXPIRATION DATE    object\n",
       "dtype: object"
      ]
     },
     "execution_count": 142,
     "metadata": {},
     "output_type": "execute_result"
    }
   ],
   "source": [
    "aircrafts.dtypes"
   ]
  },
  {
   "cell_type": "code",
   "execution_count": 143,
   "metadata": {},
   "outputs": [
    {
     "data": {
      "text/html": [
       "<div>\n",
       "<style scoped>\n",
       "    .dataframe tbody tr th:only-of-type {\n",
       "        vertical-align: middle;\n",
       "    }\n",
       "\n",
       "    .dataframe tbody tr th {\n",
       "        vertical-align: top;\n",
       "    }\n",
       "\n",
       "    .dataframe thead th {\n",
       "        text-align: right;\n",
       "    }\n",
       "</style>\n",
       "<table border=\"1\" class=\"dataframe\">\n",
       "  <thead>\n",
       "    <tr style=\"text-align: right;\">\n",
       "      <th></th>\n",
       "      <th>N-NUMBER</th>\n",
       "      <th>SERIAL NUMBER</th>\n",
       "      <th>YEAR MFR</th>\n",
       "      <th>NAME</th>\n",
       "      <th>EXPIRATION DATE</th>\n",
       "    </tr>\n",
       "  </thead>\n",
       "  <tbody>\n",
       "    <tr>\n",
       "      <th>0</th>\n",
       "      <td>1</td>\n",
       "      <td>680-0519</td>\n",
       "      <td>2014</td>\n",
       "      <td>TENAX AEROSPACE LLC                           ...</td>\n",
       "      <td>20281130</td>\n",
       "    </tr>\n",
       "    <tr>\n",
       "      <th>1</th>\n",
       "      <td>100</td>\n",
       "      <td>5334</td>\n",
       "      <td>1940</td>\n",
       "      <td>BENE MARY D                                   ...</td>\n",
       "      <td>20270430</td>\n",
       "    </tr>\n",
       "    <tr>\n",
       "      <th>2</th>\n",
       "      <td>10001</td>\n",
       "      <td>A28</td>\n",
       "      <td>1928</td>\n",
       "      <td>STOOS ROBERT A                                ...</td>\n",
       "      <td>20290228</td>\n",
       "    </tr>\n",
       "    <tr>\n",
       "      <th>3</th>\n",
       "      <td>10004</td>\n",
       "      <td>T18208245</td>\n",
       "      <td></td>\n",
       "      <td>ETOS AIR LLC                                  ...</td>\n",
       "      <td>20290331</td>\n",
       "    </tr>\n",
       "    <tr>\n",
       "      <th>4</th>\n",
       "      <td>10006</td>\n",
       "      <td>BG-72</td>\n",
       "      <td>1955</td>\n",
       "      <td>COUTCHES ROBERT HERCULES DBA                  ...</td>\n",
       "      <td>20280229</td>\n",
       "    </tr>\n",
       "    <tr>\n",
       "      <th>...</th>\n",
       "      <td>...</td>\n",
       "      <td>...</td>\n",
       "      <td>...</td>\n",
       "      <td>...</td>\n",
       "      <td>...</td>\n",
       "    </tr>\n",
       "    <tr>\n",
       "      <th>293460</th>\n",
       "      <td>9ZR</td>\n",
       "      <td>2228</td>\n",
       "      <td></td>\n",
       "      <td>SOUTHERN AIRCRAFT CONSULTANCY INC TRUSTEE     ...</td>\n",
       "      <td>20300831</td>\n",
       "    </tr>\n",
       "    <tr>\n",
       "      <th>293461</th>\n",
       "      <td>9ZS</td>\n",
       "      <td>20004</td>\n",
       "      <td>1974</td>\n",
       "      <td>COLLINS BRIAN D                               ...</td>\n",
       "      <td>20280831</td>\n",
       "    </tr>\n",
       "    <tr>\n",
       "      <th>293462</th>\n",
       "      <td>9ZT</td>\n",
       "      <td>0088</td>\n",
       "      <td>2001</td>\n",
       "      <td>VALIAIR LC TRUSTEE                            ...</td>\n",
       "      <td>20290531</td>\n",
       "    </tr>\n",
       "    <tr>\n",
       "      <th>293463</th>\n",
       "      <td>9ZU</td>\n",
       "      <td>18-7028</td>\n",
       "      <td>1959</td>\n",
       "      <td>FOWLER RONALD W                               ...</td>\n",
       "      <td>20271130</td>\n",
       "    </tr>\n",
       "    <tr>\n",
       "      <th>293464</th>\n",
       "      <td>9ZX</td>\n",
       "      <td>121</td>\n",
       "      <td>1986</td>\n",
       "      <td>HOOVER MICHAEL B                              ...</td>\n",
       "      <td>20300331</td>\n",
       "    </tr>\n",
       "  </tbody>\n",
       "</table>\n",
       "<p>293465 rows × 5 columns</p>\n",
       "</div>"
      ],
      "text/plain": [
       "       N-NUMBER                   SERIAL NUMBER YEAR MFR  \\\n",
       "0         1      680-0519                           2014   \n",
       "1         100    5334                               1940   \n",
       "2         10001  A28                                1928   \n",
       "3         10004  T18208245                                 \n",
       "4         10006  BG-72                              1955   \n",
       "...         ...                             ...      ...   \n",
       "293460    9ZR    2228                                      \n",
       "293461    9ZS    20004                              1974   \n",
       "293462    9ZT    0088                               2001   \n",
       "293463    9ZU    18-7028                            1959   \n",
       "293464    9ZX    121                                1986   \n",
       "\n",
       "                                                     NAME EXPIRATION DATE  \n",
       "0       TENAX AEROSPACE LLC                           ...        20281130  \n",
       "1       BENE MARY D                                   ...        20270430  \n",
       "2       STOOS ROBERT A                                ...        20290228  \n",
       "3       ETOS AIR LLC                                  ...        20290331  \n",
       "4       COUTCHES ROBERT HERCULES DBA                  ...        20280229  \n",
       "...                                                   ...             ...  \n",
       "293460  SOUTHERN AIRCRAFT CONSULTANCY INC TRUSTEE     ...        20300831  \n",
       "293461  COLLINS BRIAN D                               ...        20280831  \n",
       "293462  VALIAIR LC TRUSTEE                            ...        20290531  \n",
       "293463  FOWLER RONALD W                               ...        20271130  \n",
       "293464  HOOVER MICHAEL B                              ...        20300331  \n",
       "\n",
       "[293465 rows x 5 columns]"
      ]
     },
     "execution_count": 143,
     "metadata": {},
     "output_type": "execute_result"
    }
   ],
   "source": [
    "aircrafts"
   ]
  },
  {
   "cell_type": "code",
   "execution_count": 139,
   "metadata": {},
   "outputs": [],
   "source": [
    "flight_date = flights_db[[\"FL_DATE\", \"YEAR\", \"MONTH\", \"DAY_OF_MONTH\"]].drop_duplicates()"
   ]
  },
  {
   "cell_type": "code",
   "execution_count": 140,
   "metadata": {},
   "outputs": [
    {
     "data": {
      "text/plain": [
       "FL_DATE         0\n",
       "YEAR            0\n",
       "MONTH           0\n",
       "DAY_OF_MONTH    0\n",
       "dtype: int64"
      ]
     },
     "execution_count": 140,
     "metadata": {},
     "output_type": "execute_result"
    }
   ],
   "source": [
    "flight_date.isnull().sum()"
   ]
  },
  {
   "cell_type": "code",
   "execution_count": 144,
   "metadata": {},
   "outputs": [
    {
     "data": {
      "text/plain": [
       "FL_DATE         object\n",
       "YEAR             int64\n",
       "MONTH            int64\n",
       "DAY_OF_MONTH     int64\n",
       "dtype: object"
      ]
     },
     "execution_count": 144,
     "metadata": {},
     "output_type": "execute_result"
    }
   ],
   "source": [
    "flight_date.dtypes"
   ]
  },
  {
   "cell_type": "markdown",
   "metadata": {},
   "source": [
    "Creating"
   ]
  }
 ],
 "metadata": {
  "kernelspec": {
   "display_name": "Python 3",
   "language": "python",
   "name": "python3"
  },
  "language_info": {
   "codemirror_mode": {
    "name": "ipython",
    "version": 3
   },
   "file_extension": ".py",
   "mimetype": "text/x-python",
   "name": "python",
   "nbconvert_exporter": "python",
   "pygments_lexer": "ipython3",
   "version": "3.12.2"
  }
 },
 "nbformat": 4,
 "nbformat_minor": 2
}
